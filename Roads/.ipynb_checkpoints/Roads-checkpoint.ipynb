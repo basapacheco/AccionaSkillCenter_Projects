{
 "cells": [
  {
   "cell_type": "markdown",
   "metadata": {},
   "source": [
    "## Objetivo:\n",
    "    Desarrollar un sistema de detección de señales"
   ]
  },
  {
   "cell_type": "markdown",
   "metadata": {},
   "source": [
    "## 1º Tarea"
   ]
  },
  {
   "cell_type": "markdown",
   "metadata": {},
   "source": [
    "Descripción del plan a seguir (sin escribir una sola línea de código), dónde se deben discutir los siguientes aspectos, algunos, como los resultados lo rellenarás al final de la práctica:\n",
    "\n",
    "Herramientas que planeas usar\n",
    "\n",
    "\n",
    "Datos que utilizarás\n",
    "\n",
    "\n",
    "Evaluación del sistema\n",
    "\n",
    "\n",
    "Presentación de resultados.\n",
    "\n",
    "\n",
    "Retos de la práctica\n",
    "\n",
    "\n",
    "\n",
    "\n",
    "\n",
    "Ruerda que esta práctica es totalmente libre, y por lo tanto, te animamos a consultar internet. Si quieres investigar el estado del arte, o sumergirte en el aprendizaje profundo y el procesamiento de imágenes, eso depende de ti.\n",
    "\n"
   ]
  },
  {
   "cell_type": "markdown",
   "metadata": {},
   "source": [
    "## 2º Tarea"
   ]
  },
  {
   "cell_type": "markdown",
   "metadata": {},
   "source": [
    "Como segunda tarea, tendrás que implementar el plan que has definido. \n",
    "\n",
    "El lenguaje de programación es libre.\n",
    "\n",
    "\n",
    "Por favor, no olvides documentar todas tus decisiones y detallar la evaluación de los sistemas evaluados y del sistema final. No te preocupes si no obtienes un modelo perfecto, queremos conocer tu capacidad de evaluación.\n"
   ]
  },
  {
   "cell_type": "markdown",
   "metadata": {},
   "source": [
    "## 3º Tarea"
   ]
  },
  {
   "cell_type": "markdown",
   "metadata": {},
   "source": [
    "Por último, una vez construido el sistema de detección de señales, te animamos a evaluarlo sobre los siguientes vídeos grabados con una cámara montada en el salpicadero del coche.:\n",
    "https://wetransfer.com/downloads/18ae28a83e9b560bd643221bd5e9f18720220216135855/b95aefdd0a338c0baf25ba9d8bcba57b20220216135930/91a3d2 \n",
    "\n",
    "¿Con qué problemas te encuentras? \n",
    "¿El sistema construido, es capaz de detectar todas las señales? \n",
    "¿Por qué?\n"
   ]
  },
  {
   "cell_type": "markdown",
   "metadata": {},
   "source": [
    "## 4º Tarea (opcional)"
   ]
  },
  {
   "cell_type": "markdown",
   "metadata": {},
   "source": [
    "Otro módulo necesario en el desarrollo del coche autónomo, es la segmentación semántica, es decir, un módulo capaz de clasificar áreas de la imagen en función de su contenido: vegetación, carretera, cielo, vehículo... \n",
    "Se pide, siguiendo una metodología similar a la utilizada en los tres ejercicios anteriores, implementar y evaluar un algoritmo de segmentación para los vídeos proporcionados.\n"
   ]
  },
  {
   "cell_type": "code",
   "execution_count": null,
   "metadata": {},
   "outputs": [],
   "source": []
  }
 ],
 "metadata": {
  "kernelspec": {
   "display_name": "Python 3",
   "language": "python",
   "name": "python3"
  },
  "language_info": {
   "codemirror_mode": {
    "name": "ipython",
    "version": 3
   },
   "file_extension": ".py",
   "mimetype": "text/x-python",
   "name": "python",
   "nbconvert_exporter": "python",
   "pygments_lexer": "ipython3",
   "version": "3.8.3"
  }
 },
 "nbformat": 4,
 "nbformat_minor": 4
}
