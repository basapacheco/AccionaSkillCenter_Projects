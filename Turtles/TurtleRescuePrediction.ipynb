{
 "cells": [
  {
   "cell_type": "markdown",
   "id": "39dbcb05-e2b5-4a40-bc61-67efd7814050",
   "metadata": {},
   "source": [
    "# Importing Libraries"
   ]
  },
  {
   "cell_type": "code",
   "execution_count": 1,
   "id": "e3e55368-b358-4d3a-97ea-156026e31413",
   "metadata": {},
   "outputs": [],
   "source": [
    "import pandas as pd\n",
    "import numpy as np\n",
    "from matplotlib import pyplot as plt\n",
    "import seaborn as sns\n",
    "from datetime import datetime as dt\n",
    "from sklearn.model_selection import train_test_split\n",
    "from sklearn.ensemble import RandomForestRegressor\n",
    "from sklearn.metrics import mean_squared_error, r2_score"
   ]
  },
  {
   "cell_type": "markdown",
   "id": "65721d65-bb89-4dcd-b9be-9eaf6886ce1b",
   "metadata": {},
   "source": [
    "# Loading Datasets"
   ]
  },
  {
   "cell_type": "code",
   "execution_count": 2,
   "id": "97690613-98e1-47e4-9b04-4458a54427aa",
   "metadata": {},
   "outputs": [],
   "source": [
    "# Loading Datasets\n",
    "turtles = pd.read_csv('E1_Dataset_tortugas.csv')\n",
    "sample = pd.read_csv('E1_Muestra_de_presentacion.csv')\n",
    "category = pd.read_csv('E1_Categoria_Sitio_Captura.csv')"
   ]
  },
  {
   "cell_type": "code",
   "execution_count": 3,
   "id": "d3ecdeec-9d3d-4230-baa9-2a52f7304825",
   "metadata": {},
   "outputs": [
    {
     "name": "stdout",
     "output_type": "stream",
     "text": [
      "Turtles Dataset:\n"
     ]
    },
    {
     "data": {
      "text/html": [
       "<div>\n",
       "<style scoped>\n",
       "    .dataframe tbody tr th:only-of-type {\n",
       "        vertical-align: middle;\n",
       "    }\n",
       "\n",
       "    .dataframe tbody tr th {\n",
       "        vertical-align: top;\n",
       "    }\n",
       "\n",
       "    .dataframe thead th {\n",
       "        text-align: right;\n",
       "    }\n",
       "</style>\n",
       "<table border=\"1\" class=\"dataframe\">\n",
       "  <thead>\n",
       "    <tr style=\"text-align: right;\">\n",
       "      <th></th>\n",
       "      <th>Rescue_ID</th>\n",
       "      <th>Date_TimeCaught</th>\n",
       "      <th>Researcher</th>\n",
       "      <th>CaptureSite</th>\n",
       "      <th>ForagingGround</th>\n",
       "      <th>CaptureMethod</th>\n",
       "      <th>Fisher</th>\n",
       "      <th>LandingSite</th>\n",
       "      <th>Species</th>\n",
       "      <th>Tag_1</th>\n",
       "      <th>...</th>\n",
       "      <th>Lost_Tags</th>\n",
       "      <th>T_Number</th>\n",
       "      <th>CCL_cm</th>\n",
       "      <th>CCW_cm</th>\n",
       "      <th>Weight_Kg</th>\n",
       "      <th>Sex</th>\n",
       "      <th>TurtleCharacteristics</th>\n",
       "      <th>Status</th>\n",
       "      <th>ReleaseSite</th>\n",
       "      <th>Date_TimeRelease</th>\n",
       "    </tr>\n",
       "  </thead>\n",
       "  <tbody>\n",
       "    <tr>\n",
       "      <th>0</th>\n",
       "      <td>2000_RE_0060</td>\n",
       "      <td>2000-12-22</td>\n",
       "      <td>Researcher_25</td>\n",
       "      <td>CaptureSite_0</td>\n",
       "      <td>Ocean</td>\n",
       "      <td>Net</td>\n",
       "      <td>Fisher_1072</td>\n",
       "      <td>LandingSite_CaptureSiteCategory_2</td>\n",
       "      <td>Species_6</td>\n",
       "      <td>CC00147</td>\n",
       "      <td>...</td>\n",
       "      <td>NaN</td>\n",
       "      <td>NaN</td>\n",
       "      <td>64.70</td>\n",
       "      <td>62.60</td>\n",
       "      <td>NaN</td>\n",
       "      <td>Unknown</td>\n",
       "      <td>algae at rear of shell</td>\n",
       "      <td>Released</td>\n",
       "      <td>ReleaseSite_50</td>\n",
       "      <td>22/12/00</td>\n",
       "    </tr>\n",
       "    <tr>\n",
       "      <th>1</th>\n",
       "      <td>2001_RE_0187</td>\n",
       "      <td>2001-10-28</td>\n",
       "      <td>Researcher_6</td>\n",
       "      <td>CaptureSite_0</td>\n",
       "      <td>Ocean</td>\n",
       "      <td>Net</td>\n",
       "      <td>Fisher_520</td>\n",
       "      <td>LandingSite_CaptureSiteCategory_2</td>\n",
       "      <td>Species_6</td>\n",
       "      <td>W442</td>\n",
       "      <td>...</td>\n",
       "      <td>NaN</td>\n",
       "      <td>NaN</td>\n",
       "      <td>35.85</td>\n",
       "      <td>31.35</td>\n",
       "      <td>NaN</td>\n",
       "      <td>Unknown</td>\n",
       "      <td>multiple b's on front flippers&amp;  a lot of alga...</td>\n",
       "      <td>Released</td>\n",
       "      <td>ReleaseSite_62</td>\n",
       "      <td>28/10/01</td>\n",
       "    </tr>\n",
       "    <tr>\n",
       "      <th>2</th>\n",
       "      <td>2001_RE_0197</td>\n",
       "      <td>2001-11-01</td>\n",
       "      <td>Researcher_6</td>\n",
       "      <td>CaptureSite_0</td>\n",
       "      <td>Ocean</td>\n",
       "      <td>Net</td>\n",
       "      <td>Fisher_1669</td>\n",
       "      <td>LandingSite_CaptureSiteCategory_2</td>\n",
       "      <td>Species_5</td>\n",
       "      <td>KE0376</td>\n",
       "      <td>...</td>\n",
       "      <td>NaN</td>\n",
       "      <td>NaN</td>\n",
       "      <td>51.80</td>\n",
       "      <td>49.20</td>\n",
       "      <td>NaN</td>\n",
       "      <td>Unknown</td>\n",
       "      <td>clean</td>\n",
       "      <td>Released</td>\n",
       "      <td>ReleaseSite_50</td>\n",
       "      <td>01/11/01</td>\n",
       "    </tr>\n",
       "    <tr>\n",
       "      <th>3</th>\n",
       "      <td>2002_RE_0031</td>\n",
       "      <td>2002-03-11</td>\n",
       "      <td>Researcher_32</td>\n",
       "      <td>CaptureSite_0</td>\n",
       "      <td>Ocean</td>\n",
       "      <td>Net</td>\n",
       "      <td>Fisher_1798</td>\n",
       "      <td>LandingSite_CaptureSiteCategory_2</td>\n",
       "      <td>Species_6</td>\n",
       "      <td>CC00302</td>\n",
       "      <td>...</td>\n",
       "      <td>NaN</td>\n",
       "      <td>NaN</td>\n",
       "      <td>60.50</td>\n",
       "      <td>59.00</td>\n",
       "      <td>NaN</td>\n",
       "      <td>Unknown</td>\n",
       "      <td>1 b 3 CS+ calcerous algae at rear end of shell...</td>\n",
       "      <td>Released</td>\n",
       "      <td>ReleaseSite_50</td>\n",
       "      <td>11/03/02</td>\n",
       "    </tr>\n",
       "    <tr>\n",
       "      <th>4</th>\n",
       "      <td>2002_RE_0118</td>\n",
       "      <td>2002-08-08</td>\n",
       "      <td>Researcher_25</td>\n",
       "      <td>CaptureSite_0</td>\n",
       "      <td>Ocean</td>\n",
       "      <td>Beached</td>\n",
       "      <td>Fisher_1918</td>\n",
       "      <td>LandingSite_CaptureSiteCategory_2</td>\n",
       "      <td>Species_5</td>\n",
       "      <td>NotTagged_0113</td>\n",
       "      <td>...</td>\n",
       "      <td>NaN</td>\n",
       "      <td>NaN</td>\n",
       "      <td>34.70</td>\n",
       "      <td>33.00</td>\n",
       "      <td>NaN</td>\n",
       "      <td>Unknown</td>\n",
       "      <td>very lively+ right eye is hanging out + swolle...</td>\n",
       "      <td>Released</td>\n",
       "      <td>ReleaseSite_62</td>\n",
       "      <td>08/08/02</td>\n",
       "    </tr>\n",
       "  </tbody>\n",
       "</table>\n",
       "<p>5 rows × 21 columns</p>\n",
       "</div>"
      ],
      "text/plain": [
       "      Rescue_ID Date_TimeCaught     Researcher    CaptureSite ForagingGround  \\\n",
       "0  2000_RE_0060      2000-12-22  Researcher_25  CaptureSite_0          Ocean   \n",
       "1  2001_RE_0187      2001-10-28   Researcher_6  CaptureSite_0          Ocean   \n",
       "2  2001_RE_0197      2001-11-01   Researcher_6  CaptureSite_0          Ocean   \n",
       "3  2002_RE_0031      2002-03-11  Researcher_32  CaptureSite_0          Ocean   \n",
       "4  2002_RE_0118      2002-08-08  Researcher_25  CaptureSite_0          Ocean   \n",
       "\n",
       "  CaptureMethod       Fisher                        LandingSite    Species  \\\n",
       "0           Net  Fisher_1072  LandingSite_CaptureSiteCategory_2  Species_6   \n",
       "1           Net   Fisher_520  LandingSite_CaptureSiteCategory_2  Species_6   \n",
       "2           Net  Fisher_1669  LandingSite_CaptureSiteCategory_2  Species_5   \n",
       "3           Net  Fisher_1798  LandingSite_CaptureSiteCategory_2  Species_6   \n",
       "4       Beached  Fisher_1918  LandingSite_CaptureSiteCategory_2  Species_5   \n",
       "\n",
       "            Tag_1  ... Lost_Tags T_Number CCL_cm  CCW_cm  Weight_Kg      Sex  \\\n",
       "0         CC00147  ...       NaN      NaN  64.70   62.60        NaN  Unknown   \n",
       "1            W442  ...       NaN      NaN  35.85   31.35        NaN  Unknown   \n",
       "2          KE0376  ...       NaN      NaN  51.80   49.20        NaN  Unknown   \n",
       "3         CC00302  ...       NaN      NaN  60.50   59.00        NaN  Unknown   \n",
       "4  NotTagged_0113  ...       NaN      NaN  34.70   33.00        NaN  Unknown   \n",
       "\n",
       "                               TurtleCharacteristics    Status  \\\n",
       "0                             algae at rear of shell  Released   \n",
       "1  multiple b's on front flippers&  a lot of alga...  Released   \n",
       "2                                              clean  Released   \n",
       "3  1 b 3 CS+ calcerous algae at rear end of shell...  Released   \n",
       "4  very lively+ right eye is hanging out + swolle...  Released   \n",
       "\n",
       "      ReleaseSite Date_TimeRelease  \n",
       "0  ReleaseSite_50         22/12/00  \n",
       "1  ReleaseSite_62         28/10/01  \n",
       "2  ReleaseSite_50         01/11/01  \n",
       "3  ReleaseSite_50         11/03/02  \n",
       "4  ReleaseSite_62         08/08/02  \n",
       "\n",
       "[5 rows x 21 columns]"
      ]
     },
     "metadata": {},
     "output_type": "display_data"
    }
   ],
   "source": [
    "# Displaying the first few rows of the turtles dataset\n",
    "print(\"Turtles Dataset:\")\n",
    "display(turtles.head())"
   ]
  },
  {
   "cell_type": "code",
   "execution_count": 4,
   "id": "57f241d3-feaf-4654-9b68-1809f4d7d5f3",
   "metadata": {},
   "outputs": [
    {
     "name": "stdout",
     "output_type": "stream",
     "text": [
      "Sample Dataset:\n"
     ]
    },
    {
     "data": {
      "text/html": [
       "<div>\n",
       "<style scoped>\n",
       "    .dataframe tbody tr th:only-of-type {\n",
       "        vertical-align: middle;\n",
       "    }\n",
       "\n",
       "    .dataframe tbody tr th {\n",
       "        vertical-align: top;\n",
       "    }\n",
       "\n",
       "    .dataframe thead th {\n",
       "        text-align: right;\n",
       "    }\n",
       "</style>\n",
       "<table border=\"1\" class=\"dataframe\">\n",
       "  <thead>\n",
       "    <tr style=\"text-align: right;\">\n",
       "      <th></th>\n",
       "      <th>ID</th>\n",
       "      <th>Capture_Number</th>\n",
       "    </tr>\n",
       "  </thead>\n",
       "  <tbody>\n",
       "    <tr>\n",
       "      <th>0</th>\n",
       "      <td>CaptureSite_0_201901</td>\n",
       "      <td>7</td>\n",
       "    </tr>\n",
       "    <tr>\n",
       "      <th>1</th>\n",
       "      <td>CaptureSite_0_201902</td>\n",
       "      <td>1</td>\n",
       "    </tr>\n",
       "    <tr>\n",
       "      <th>2</th>\n",
       "      <td>CaptureSite_0_201903</td>\n",
       "      <td>5</td>\n",
       "    </tr>\n",
       "    <tr>\n",
       "      <th>3</th>\n",
       "      <td>CaptureSite_0_201904</td>\n",
       "      <td>2</td>\n",
       "    </tr>\n",
       "    <tr>\n",
       "      <th>4</th>\n",
       "      <td>CaptureSite_0_201905</td>\n",
       "      <td>3</td>\n",
       "    </tr>\n",
       "  </tbody>\n",
       "</table>\n",
       "</div>"
      ],
      "text/plain": [
       "                     ID  Capture_Number\n",
       "0  CaptureSite_0_201901               7\n",
       "1  CaptureSite_0_201902               1\n",
       "2  CaptureSite_0_201903               5\n",
       "3  CaptureSite_0_201904               2\n",
       "4  CaptureSite_0_201905               3"
      ]
     },
     "metadata": {},
     "output_type": "display_data"
    }
   ],
   "source": [
    "# Displaying the first few rows of the sample dataset\n",
    "print(\"Sample Dataset:\")\n",
    "display(sample.head())"
   ]
  },
  {
   "cell_type": "code",
   "execution_count": 5,
   "id": "dc9fc5a6-a8f1-4b64-9ba1-86a28965ad86",
   "metadata": {},
   "outputs": [
    {
     "name": "stdout",
     "output_type": "stream",
     "text": [
      "Category Dataset:\n"
     ]
    },
    {
     "data": {
      "text/html": [
       "<div>\n",
       "<style scoped>\n",
       "    .dataframe tbody tr th:only-of-type {\n",
       "        vertical-align: middle;\n",
       "    }\n",
       "\n",
       "    .dataframe tbody tr th {\n",
       "        vertical-align: top;\n",
       "    }\n",
       "\n",
       "    .dataframe thead th {\n",
       "        text-align: right;\n",
       "    }\n",
       "</style>\n",
       "<table border=\"1\" class=\"dataframe\">\n",
       "  <thead>\n",
       "    <tr style=\"text-align: right;\">\n",
       "      <th></th>\n",
       "      <th>CaptureSite</th>\n",
       "      <th>CaptureSiteCategory</th>\n",
       "      <th>Type</th>\n",
       "    </tr>\n",
       "  </thead>\n",
       "  <tbody>\n",
       "    <tr>\n",
       "      <th>0</th>\n",
       "      <td>CaptureSite_0</td>\n",
       "      <td>CaptureSiteCategory_2</td>\n",
       "      <td>Type_1</td>\n",
       "    </tr>\n",
       "    <tr>\n",
       "      <th>1</th>\n",
       "      <td>CaptureSite_1</td>\n",
       "      <td>CaptureSiteCategory_2</td>\n",
       "      <td>Type_1</td>\n",
       "    </tr>\n",
       "    <tr>\n",
       "      <th>2</th>\n",
       "      <td>CaptureSite_10</td>\n",
       "      <td>CaptureSiteCategory_2</td>\n",
       "      <td>Type_1</td>\n",
       "    </tr>\n",
       "    <tr>\n",
       "      <th>3</th>\n",
       "      <td>CaptureSite_11</td>\n",
       "      <td>CaptureSiteCategory_0</td>\n",
       "      <td>Type_0</td>\n",
       "    </tr>\n",
       "    <tr>\n",
       "      <th>4</th>\n",
       "      <td>CaptureSite_12</td>\n",
       "      <td>CaptureSiteCategory_2</td>\n",
       "      <td>Type_1</td>\n",
       "    </tr>\n",
       "  </tbody>\n",
       "</table>\n",
       "</div>"
      ],
      "text/plain": [
       "      CaptureSite    CaptureSiteCategory    Type\n",
       "0   CaptureSite_0  CaptureSiteCategory_2  Type_1\n",
       "1   CaptureSite_1  CaptureSiteCategory_2  Type_1\n",
       "2  CaptureSite_10  CaptureSiteCategory_2  Type_1\n",
       "3  CaptureSite_11  CaptureSiteCategory_0  Type_0\n",
       "4  CaptureSite_12  CaptureSiteCategory_2  Type_1"
      ]
     },
     "metadata": {},
     "output_type": "display_data"
    }
   ],
   "source": [
    "# Displaying the first few rows of the category dataset\n",
    "print(\"Category Dataset:\")\n",
    "display(category.head())"
   ]
  },
  {
   "cell_type": "markdown",
   "id": "69450eb8-273e-4122-946f-cf38ca8c44ca",
   "metadata": {},
   "source": [
    "# Converting date columns to datetime with error handling"
   ]
  },
  {
   "cell_type": "code",
   "execution_count": 6,
   "id": "f6193d3c-b5ee-42ca-93d5-8b8344f73d0b",
   "metadata": {},
   "outputs": [
    {
     "name": "stdout",
     "output_type": "stream",
     "text": [
      "Failed to parse dates with format %Y-%m-%d: time data \"22/12/00\" doesn't match format \"%Y-%m-%d\", at position 0. You might want to try:\n",
      "    - passing `format` if your strings have a consistent format;\n",
      "    - passing `format='ISO8601'` if your strings are all ISO8601 but not necessarily in exactly the same format;\n",
      "    - passing `format='mixed'`, and the format will be inferred for each element individually. You might want to use `dayfirst` alongside this.\n",
      "Failed to parse dates with format %d/%m/%Y: time data \"22/12/00\" doesn't match format \"%d/%m/%Y\", at position 0. You might want to try:\n",
      "    - passing `format` if your strings have a consistent format;\n",
      "    - passing `format='ISO8601'` if your strings are all ISO8601 but not necessarily in exactly the same format;\n",
      "    - passing `format='mixed'`, and the format will be inferred for each element individually. You might want to use `dayfirst` alongside this.\n",
      "Date conversion successful for Date_TimeCaught and Date_TimeRelease\n",
      "Min and Max Dates:\n",
      "1998-04-17 00:00:00 2018-12-31 00:00:00\n"
     ]
    },
    {
     "name": "stderr",
     "output_type": "stream",
     "text": [
      "/var/folders/1n/_64mzqt52db47s3_42gmdggc0000gn/T/ipykernel_87621/820016558.py:21: FutureWarning: A value is trying to be set on a copy of a DataFrame or Series through chained assignment using an inplace method.\n",
      "The behavior will change in pandas 3.0. This inplace method will never work because the intermediate object on which we are setting values always behaves as a copy.\n",
      "\n",
      "For example, when doing 'df[col].method(value, inplace=True)', try using 'df.method({col: value}, inplace=True)' or df[col] = df[col].method(value) instead, to perform the operation inplace on the original object.\n",
      "\n",
      "\n",
      "  turtles['Weight_Kg'].fillna(turtles['Weight_Kg'].median(), inplace=True)\n",
      "/var/folders/1n/_64mzqt52db47s3_42gmdggc0000gn/T/ipykernel_87621/820016558.py:22: FutureWarning: A value is trying to be set on a copy of a DataFrame or Series through chained assignment using an inplace method.\n",
      "The behavior will change in pandas 3.0. This inplace method will never work because the intermediate object on which we are setting values always behaves as a copy.\n",
      "\n",
      "For example, when doing 'df[col].method(value, inplace=True)', try using 'df.method({col: value}, inplace=True)' or df[col] = df[col].method(value) instead, to perform the operation inplace on the original object.\n",
      "\n",
      "\n",
      "  turtles['Sex'].fillna('Unknown', inplace=True)\n",
      "/var/folders/1n/_64mzqt52db47s3_42gmdggc0000gn/T/ipykernel_87621/820016558.py:23: FutureWarning: A value is trying to be set on a copy of a DataFrame or Series through chained assignment using an inplace method.\n",
      "The behavior will change in pandas 3.0. This inplace method will never work because the intermediate object on which we are setting values always behaves as a copy.\n",
      "\n",
      "For example, when doing 'df[col].method(value, inplace=True)', try using 'df.method({col: value}, inplace=True)' or df[col] = df[col].method(value) instead, to perform the operation inplace on the original object.\n",
      "\n",
      "\n",
      "  turtles['Status'].fillna('Unknown', inplace=True)\n",
      "/var/folders/1n/_64mzqt52db47s3_42gmdggc0000gn/T/ipykernel_87621/820016558.py:24: FutureWarning: A value is trying to be set on a copy of a DataFrame or Series through chained assignment using an inplace method.\n",
      "The behavior will change in pandas 3.0. This inplace method will never work because the intermediate object on which we are setting values always behaves as a copy.\n",
      "\n",
      "For example, when doing 'df[col].method(value, inplace=True)', try using 'df.method({col: value}, inplace=True)' or df[col] = df[col].method(value) instead, to perform the operation inplace on the original object.\n",
      "\n",
      "\n",
      "  turtles['ReleaseSite'].fillna('Unknown', inplace=True)\n",
      "/var/folders/1n/_64mzqt52db47s3_42gmdggc0000gn/T/ipykernel_87621/820016558.py:25: FutureWarning: A value is trying to be set on a copy of a DataFrame or Series through chained assignment using an inplace method.\n",
      "The behavior will change in pandas 3.0. This inplace method will never work because the intermediate object on which we are setting values always behaves as a copy.\n",
      "\n",
      "For example, when doing 'df[col].method(value, inplace=True)', try using 'df.method({col: value}, inplace=True)' or df[col] = df[col].method(value) instead, to perform the operation inplace on the original object.\n",
      "\n",
      "\n",
      "  turtles['TurtleCharacteristics'].fillna('Unknown', inplace=True)\n"
     ]
    }
   ],
   "source": [
    "# Attempting different date formats\n",
    "date_formats = ['%Y-%m-%d', '%d/%m/%Y']\n",
    "\n",
    "for fmt in date_formats:\n",
    "    try:\n",
    "        turtles['Date_TimeCaught'] = pd.to_datetime(turtles['Date_TimeCaught'], format=fmt, errors='raise')\n",
    "        turtles['Date_TimeRelease'] = pd.to_datetime(turtles['Date_TimeRelease'], format=fmt, errors='raise')\n",
    "        break\n",
    "    except Exception as e:\n",
    "        print(f\"Failed to parse dates with format {fmt}: {e}\")\n",
    "\n",
    "# Checking if the conversion was successful\n",
    "print(\"Date conversion successful for Date_TimeCaught and Date_TimeRelease\")\n",
    "print(\"Min and Max Dates:\")\n",
    "print(turtles['Date_TimeCaught'].min(), turtles['Date_TimeCaught'].max())\n",
    "\n",
    "# Removing rows with NaT in the date columns if necessary\n",
    "turtles.dropna(subset=['Date_TimeCaught', 'Date_TimeRelease'], inplace=True)\n",
    "\n",
    "# Filling remaining missing values for other columns\n",
    "turtles['Weight_Kg'].fillna(turtles['Weight_Kg'].median(), inplace=True)\n",
    "turtles['Sex'].fillna('Unknown', inplace=True)\n",
    "turtles['Status'].fillna('Unknown', inplace=True)\n",
    "turtles['ReleaseSite'].fillna('Unknown', inplace=True)\n",
    "turtles['TurtleCharacteristics'].fillna('Unknown', inplace=True)\n"
   ]
  },
  {
   "cell_type": "markdown",
   "id": "5723a5af-a1dc-440a-b5ea-f578c155a354",
   "metadata": {},
   "source": [
    "# Number of turtles captured by year"
   ]
  },
  {
   "cell_type": "code",
   "execution_count": 7,
   "id": "cfcb149e-2fe2-4370-bfd5-06094dc8d8d2",
   "metadata": {},
   "outputs": [
    {
     "name": "stderr",
     "output_type": "stream",
     "text": [
      "/var/folders/1n/_64mzqt52db47s3_42gmdggc0000gn/T/ipykernel_87621/36171314.py:5: FutureWarning: \n",
      "\n",
      "Passing `palette` without assigning `hue` is deprecated and will be removed in v0.14.0. Assign the `x` variable to `hue` and set `legend=False` for the same effect.\n",
      "\n",
      "  sns.barplot(x=yearly_captures.index, y=yearly_captures.values, palette='viridis')\n"
     ]
    },
    {
     "data": {
      "image/png": "[encoded data removed]",
      "text/plain": [
       "<Figure size 1200x600 with 1 Axes>"
      ]
     },
     "metadata": {},
     "output_type": "display_data"
    }
   ],
   "source": [
    "turtles['year_caught'] = turtles['Date_TimeCaught'].dt.year\n",
    "yearly_captures = turtles['year_caught'].value_counts().sort_index()\n",
    "\n",
    "plt.figure(figsize=(12, 6))\n",
    "sns.barplot(x=yearly_captures.index, y=yearly_captures.values, palette='viridis')\n",
    "plt.xlabel('Year')\n",
    "plt.ylabel('Number of Turtles Captured')\n",
    "plt.title('Number of Turtles Captured by Year')\n",
    "plt.show()"
   ]
  },
  {
   "cell_type": "markdown",
   "id": "bb7de18e-a153-489b-aefa-48529da6f696",
   "metadata": {},
   "source": [
    "# Merging category data with turtles data"
   ]
  },
  {
   "cell_type": "code",
   "execution_count": 8,
   "id": "9d952a03-00df-44a3-badf-7bb5e0ecafac",
   "metadata": {},
   "outputs": [],
   "source": [
    "df = pd.merge(turtles, category, on='CaptureSite')"
   ]
  },
  {
   "cell_type": "markdown",
   "id": "c4ea4f8a-a82a-4e7f-906c-df264f541554",
   "metadata": {},
   "source": [
    "# Feature Engineering"
   ]
  },
  {
   "cell_type": "code",
   "execution_count": 9,
   "id": "d4069bcf-2fd7-4698-b1b0-83f0172a1237",
   "metadata": {},
   "outputs": [],
   "source": [
    "df['month_caught'] = df['Date_TimeCaught'].dt.month\n",
    "df['week_of_year_caught'] = df['Date_TimeCaught'].dt.isocalendar().week\n",
    "df['day_caught'] = df['Date_TimeCaught'].dt.day\n",
    "df['day_of_week_caught'] = df['Date_TimeCaught'].dt.dayofweek\n",
    "df['year_woy'] = df['year_caught'] * 100 + df['week_of_year_caught']\n"
   ]
  },
  {
   "cell_type": "markdown",
   "id": "8cd9f98e-fb0a-4cc7-89fa-8d4055fac339",
   "metadata": {},
   "source": [
    "# Data Preparation for Prediction"
   ]
  },
  {
   "cell_type": "code",
   "execution_count": 10,
   "id": "b2ea647d-c506-468c-b140-2d6bccfc611f",
   "metadata": {},
   "outputs": [],
   "source": [
    "# Aggregating the number of captures per week per capture site\n",
    "capture_counts = df.groupby(['year_woy', 'CaptureSite']).size().reset_index(name='Capture_Number')"
   ]
  },
  {
   "cell_type": "code",
   "execution_count": 11,
   "id": "cf4b1e3c-a669-44db-a241-46bcbddce9d1",
   "metadata": {},
   "outputs": [],
   "source": [
    "# Creating a date range for the prediction period\n",
    "date_range = pd.date_range(start='2019-01-01', end='2020-12-31', freq='W')\n",
    "date_range_df = pd.DataFrame({'Date': date_range})\n",
    "date_range_df['year_woy'] = date_range_df['Date'].dt.year * 100 + date_range_df['Date'].dt.isocalendar().week"
   ]
  },
  {
   "cell_type": "code",
   "execution_count": 12,
   "id": "4efff1ce-46e5-4a97-85e6-401e75f11720",
   "metadata": {},
   "outputs": [
    {
     "name": "stderr",
     "output_type": "stream",
     "text": [
      "/var/folders/1n/_64mzqt52db47s3_42gmdggc0000gn/T/ipykernel_87621/4156379965.py:3: FutureWarning: A value is trying to be set on a copy of a DataFrame or Series through chained assignment using an inplace method.\n",
      "The behavior will change in pandas 3.0. This inplace method will never work because the intermediate object on which we are setting values always behaves as a copy.\n",
      "\n",
      "For example, when doing 'df[col].method(value, inplace=True)', try using 'df.method({col: value}, inplace=True)' or df[col] = df[col].method(value) instead, to perform the operation inplace on the original object.\n",
      "\n",
      "\n",
      "  final_data['Capture_Number'].fillna(0, inplace=True)\n"
     ]
    }
   ],
   "source": [
    "# Preparing the final dataset for prediction\n",
    "final_data = pd.merge(date_range_df, capture_counts, on='year_woy', how='left')\n",
    "final_data['Capture_Number'].fillna(0, inplace=True)"
   ]
  },
  {
   "cell_type": "markdown",
   "id": "5a69bfe9-23c2-435d-b8e0-551edeacaac2",
   "metadata": {},
   "source": [
    "# Model Training and Prediction"
   ]
  },
  {
   "cell_type": "code",
   "execution_count": 13,
   "id": "d70911d8-2379-4fb7-ac5b-86b7429e3c79",
   "metadata": {},
   "outputs": [
    {
     "name": "stdout",
     "output_type": "stream",
     "text": [
      "Mean Squared Error: 0.0\n",
      "R2 Score: 1.0\n"
     ]
    }
   ],
   "source": [
    "# Splitting the data into training and testing sets\n",
    "X = final_data[['year_woy']]\n",
    "y = final_data['Capture_Number']\n",
    "X_train, X_test, y_train, y_test = train_test_split(X, y, test_size=0.2, random_state=42)\n",
    "\n",
    "# Training the model\n",
    "model = RandomForestRegressor(n_estimators=100, random_state=42)\n",
    "model.fit(X_train, y_train)\n",
    "\n",
    "# Making predictions\n",
    "predictions = model.predict(X_test)\n",
    "\n",
    "# Evaluating the model\n",
    "mse = mean_squared_error(y_test, predictions)\n",
    "r2 = r2_score(y_test, predictions)\n",
    "\n",
    "print(f\"Mean Squared Error: {mse}\")\n",
    "print(f\"R2 Score: {r2}\")"
   ]
  },
  {
   "cell_type": "markdown",
   "id": "e7b0bf48-6548-42b1-b552-01c3785fcb89",
   "metadata": {},
   "source": [
    "# Exercise 2: Identifying the Desalination Plant"
   ]
  },
  {
   "cell_type": "code",
   "execution_count": 14,
   "id": "9506912f-8f38-40e4-8367-167db7fa6b32",
   "metadata": {},
   "outputs": [],
   "source": [
    "# Loading the Boro dataset\n",
    "boro = pd.read_excel('E2_Dataset_Boro.xlsx')"
   ]
  },
  {
   "cell_type": "code",
   "execution_count": 15,
   "id": "a6daec4e-bb49-4573-b1f2-87eb579ff0c6",
   "metadata": {},
   "outputs": [],
   "source": [
    "# Merging Boro data with predicted captures data\n",
    "boro['Date'] = pd.to_datetime(boro['Date'])\n",
    "boro['year_woy'] = boro['Date'].dt.year * 100 + boro['Date'].dt.isocalendar().week\n",
    "boro_merged = pd.merge(boro, final_data, on='year_woy', how='left')"
   ]
  },
  {
   "cell_type": "code",
   "execution_count": 16,
   "id": "7b5c678d-38b5-440e-affd-4198a5cabb15",
   "metadata": {},
   "outputs": [
    {
     "name": "stdout",
     "output_type": "stream",
     "text": [
      "The desalination plant corresponds to Capture Site: nan\n"
     ]
    }
   ],
   "source": [
    "# Analyzing the merged data to identify the capture site\n",
    "max_boron_capture_site = boro_merged.loc[boro_merged['BORON'].idxmax(), 'CaptureSite']\n",
    "print(f\"The desalination plant corresponds to Capture Site: {max_boron_capture_site}\")"
   ]
  },
  {
   "cell_type": "code",
   "execution_count": 17,
   "id": "c6506f55-20a8-435d-bbab-59f39c8dfd13",
   "metadata": {},
   "outputs": [],
   "source": [
    "# Saving the results\n",
    "final_data.to_csv('predicted_turtle_captures.csv', index=False)\n",
    "boro_merged.to_csv('boro_merged_data.csv', index=False)"
   ]
  },
  {
   "cell_type": "code",
   "execution_count": 18,
   "id": "c7294d8a-1620-4c2b-be74-a4aa07177d66",
   "metadata": {
    "tags": []
   },
   "outputs": [
    {
     "name": "stdout",
     "output_type": "stream",
     "text": [
      "Results saved to CSV files.\n"
     ]
    }
   ],
   "source": [
    "print(\"Results saved to CSV files.\")"
   ]
  }
 ],
 "metadata": {
  "kernelspec": {
   "display_name": "Python 3 (ipykernel)",
   "language": "python",
   "name": "python3"
  },
  "language_info": {
   "codemirror_mode": {
    "name": "ipython",
    "version": 3
   },
   "file_extension": ".py",
   "mimetype": "text/x-python",
   "name": "python",
   "nbconvert_exporter": "python",
   "pygments_lexer": "ipython3",
   "version": "3.11.5"
  }
 },
 "nbformat": 4,
 "nbformat_minor": 5
}
